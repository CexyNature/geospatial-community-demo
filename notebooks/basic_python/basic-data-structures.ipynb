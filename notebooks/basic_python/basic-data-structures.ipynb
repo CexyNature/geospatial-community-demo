{
 "cells": [
  {
   "cell_type": "markdown",
   "id": "2db9a7db-cb61-4841-8680-97bed2e7579c",
   "metadata": {},
   "source": [
    "# Python: Introduction to data structures"
   ]
  },
  {
   "cell_type": "markdown",
   "id": "759a3fd7-483d-4310-8c8d-398f2fcf7b9f",
   "metadata": {},
   "source": [
    "There are four key sequential data structures in Python:\n",
    "\n",
    "- List\n",
    "- Tuple\n",
    "- Set\n",
    "- Dictionaries\n",
    "\n",
    "These data structures can hold different data types, such as strings `str`, integers `int`, floats `float`, or even other data structures."
   ]
  },
  {
   "cell_type": "code",
   "execution_count": 1,
   "id": "7e254132-7632-4aba-885a-8bff250d6378",
   "metadata": {},
   "outputs": [
    {
     "data": {
      "text/plain": [
       "str"
      ]
     },
     "execution_count": 1,
     "metadata": {},
     "output_type": "execute_result"
    }
   ],
   "source": [
    "x = \"A string\"\n",
    "type(x)"
   ]
  },
  {
   "cell_type": "code",
   "execution_count": 2,
   "id": "5dac68a5-f353-46a1-b466-45afcc413d19",
   "metadata": {},
   "outputs": [
    {
     "data": {
      "text/plain": [
       "int"
      ]
     },
     "execution_count": 2,
     "metadata": {},
     "output_type": "execute_result"
    }
   ],
   "source": [
    "y = 23\n",
    "type(y)"
   ]
  },
  {
   "cell_type": "code",
   "execution_count": 3,
   "id": "d86594e1-2196-42b3-9275-23f6f2e45498",
   "metadata": {},
   "outputs": [
    {
     "data": {
      "text/plain": [
       "float"
      ]
     },
     "execution_count": 3,
     "metadata": {},
     "output_type": "execute_result"
    }
   ],
   "source": [
    "z = 12.1\n",
    "type(z)"
   ]
  },
  {
   "cell_type": "code",
   "execution_count": 4,
   "id": "492dea7d-0ce7-4c1b-8cd4-f388e6388530",
   "metadata": {},
   "outputs": [
    {
     "name": "stdout",
     "output_type": "stream",
     "text": [
      "A string\n",
      "<class 'str'>\n"
     ]
    }
   ],
   "source": [
    "print(x)\n",
    "print(type(x))"
   ]
  },
  {
   "cell_type": "code",
   "execution_count": 5,
   "id": "07d6a2d2-0a62-4981-a8a2-21137c5d2b9b",
   "metadata": {},
   "outputs": [
    {
     "name": "stdout",
     "output_type": "stream",
     "text": [
      "x is A string of type <class 'str'>\n"
     ]
    }
   ],
   "source": [
    "print(f\"x is {x} of type {type(x)}\") # In this print function we made use of f-Strings a convenient way to embed variables or expressions inside strings"
   ]
  },
  {
   "cell_type": "code",
   "execution_count": 6,
   "id": "302de11a-05a5-45f1-8028-1469218305b6",
   "metadata": {},
   "outputs": [
    {
     "name": "stdout",
     "output_type": "stream",
     "text": [
      "x is A string of type <class 'str'>\n"
     ]
    }
   ],
   "source": [
    "print(\"x is {} of type {}\".format(x, type(x))) # This is an alternative way to evaluate variables or expressions inside strings, less readable."
   ]
  },
  {
   "cell_type": "markdown",
   "id": "81ee78ad-1a1b-4d7e-a9a9-a72814064f59",
   "metadata": {},
   "source": [
    "## List\n",
    "\n",
    "- Sequence data\n",
    "- Mutable (you can add and remove elements)\n",
    "- Ordered, so it is sortable "
   ]
  },
  {
   "cell_type": "markdown",
   "id": "b8d5bd9d-bbd7-4d9c-89a7-779b12191ae2",
   "metadata": {},
   "source": [
    "Creating a list:"
   ]
  },
  {
   "cell_type": "code",
   "execution_count": 7,
   "id": "eb26e3ec-7f92-4830-95c6-da22269abec7",
   "metadata": {},
   "outputs": [
    {
     "name": "stdout",
     "output_type": "stream",
     "text": [
      "[1, 2, 3, 4] ['a', 'b', 'c', 'd']\n"
     ]
    }
   ],
   "source": [
    "listA = [1, 2, 3, 4] # Note the use of square brackets for creating a list\n",
    "listB = [\"a\", \"b\", \"c\", \"d\"]\n",
    "\n",
    "print(listA, listB) # Note that Python represents lists using square brackets"
   ]
  },
  {
   "cell_type": "markdown",
   "id": "420a5dd1-fe56-4b7e-bd3b-5b76369f085d",
   "metadata": {},
   "source": [
    "Combining two lists:"
   ]
  },
  {
   "cell_type": "code",
   "execution_count": 8,
   "id": "81175950-56b1-48be-9756-5e114b5e0477",
   "metadata": {},
   "outputs": [
    {
     "data": {
      "text/plain": [
       "[1, 2, 3, 4, 'a', 'b', 'c', 'd']"
      ]
     },
     "execution_count": 8,
     "metadata": {},
     "output_type": "execute_result"
    }
   ],
   "source": [
    "newList = listA + listB # Adding to lists\n",
    "newList # A list can have different types"
   ]
  },
  {
   "cell_type": "markdown",
   "id": "19414968-9efe-4a91-befe-1e2556b11776",
   "metadata": {},
   "source": [
    "Adding new items to a list:"
   ]
  },
  {
   "cell_type": "code",
   "execution_count": 9,
   "id": "751d0226-aa80-414b-87f1-cf31476452eb",
   "metadata": {},
   "outputs": [
    {
     "data": {
      "text/plain": [
       "[1, 2, 3, 4, 'a', 'b', 'c', 'd', 5]"
      ]
     },
     "execution_count": 9,
     "metadata": {},
     "output_type": "execute_result"
    }
   ],
   "source": [
    "newList.append(5)\n",
    "newList"
   ]
  },
  {
   "cell_type": "markdown",
   "id": "c9caf6f9-a0b8-4212-bbe0-612c44088d19",
   "metadata": {},
   "source": [
    "Adding new intems to a list in specific position"
   ]
  },
  {
   "cell_type": "code",
   "execution_count": 10,
   "id": "22b3c8e6-8f4d-4dea-a5ad-40744551192b",
   "metadata": {},
   "outputs": [
    {
     "data": {
      "text/plain": [
       "['z', 1, 2, 3, 4, 'a', 'b', 'c', 'd', 5]"
      ]
     },
     "execution_count": 10,
     "metadata": {},
     "output_type": "execute_result"
    }
   ],
   "source": [
    "newList.insert(0, \"z\")\n",
    "newList"
   ]
  },
  {
   "cell_type": "markdown",
   "id": "d3f36595-641a-4cc6-bcd1-d136a7bf4ee1",
   "metadata": {},
   "source": [
    "Delete items from the list by position:"
   ]
  },
  {
   "cell_type": "code",
   "execution_count": 11,
   "id": "0b116a89-5086-44e4-be0c-28dc6d40fd1a",
   "metadata": {},
   "outputs": [
    {
     "data": {
      "text/plain": [
       "[1, 2, 3, 4, 'a', 'b', 'c', 'd', 5]"
      ]
     },
     "execution_count": 11,
     "metadata": {},
     "output_type": "execute_result"
    }
   ],
   "source": [
    "del(newList[0])\n",
    "newList"
   ]
  },
  {
   "cell_type": "code",
   "execution_count": 12,
   "id": "ace8218a-6b20-4783-8f87-c2199be4a8cc",
   "metadata": {},
   "outputs": [
    {
     "data": {
      "text/plain": [
       "5"
      ]
     },
     "execution_count": 12,
     "metadata": {},
     "output_type": "execute_result"
    }
   ],
   "source": [
    "newList.pop()"
   ]
  },
  {
   "cell_type": "code",
   "execution_count": 13,
   "id": "fb57a185-4b98-4ba5-ae65-d63bf786f578",
   "metadata": {},
   "outputs": [
    {
     "data": {
      "text/plain": [
       "[1, 2, 3, 4, 'a', 'b', 'c', 'd']"
      ]
     },
     "execution_count": 13,
     "metadata": {},
     "output_type": "execute_result"
    }
   ],
   "source": [
    "newList"
   ]
  },
  {
   "cell_type": "code",
   "execution_count": 14,
   "id": "5a7cc063-7ba0-4924-99ad-1da4b33abff8",
   "metadata": {},
   "outputs": [
    {
     "data": {
      "text/plain": [
       "['d', 'c', 'b', 'a', 4, 3, 2, 1]"
      ]
     },
     "execution_count": 14,
     "metadata": {},
     "output_type": "execute_result"
    }
   ],
   "source": [
    "newList.reverse()\n",
    "newList"
   ]
  },
  {
   "cell_type": "code",
   "execution_count": 15,
   "id": "ba286ab4-52a6-480a-ba4e-7a94761b7fd1",
   "metadata": {},
   "outputs": [
    {
     "ename": "TypeError",
     "evalue": "'<' not supported between instances of 'int' and 'str'",
     "output_type": "error",
     "traceback": [
      "\u001b[0;31m---------------------------------------------------------------------------\u001b[0m",
      "\u001b[0;31mTypeError\u001b[0m                                 Traceback (most recent call last)",
      "Cell \u001b[0;32mIn[15], line 1\u001b[0m\n\u001b[0;32m----> 1\u001b[0m \u001b[43mnewList\u001b[49m\u001b[38;5;241;43m.\u001b[39;49m\u001b[43msort\u001b[49m\u001b[43m(\u001b[49m\u001b[43m)\u001b[49m \u001b[38;5;66;03m# We cannot sort a list with mixed types\u001b[39;00m\n\u001b[1;32m      2\u001b[0m newList\n",
      "\u001b[0;31mTypeError\u001b[0m: '<' not supported between instances of 'int' and 'str'"
     ]
    }
   ],
   "source": [
    "newList.sort() # We cannot sort a list with mixed types\n",
    "newList"
   ]
  },
  {
   "cell_type": "code",
   "execution_count": 16,
   "id": "4084170d-112b-4d5d-9c03-261fc1a10848",
   "metadata": {},
   "outputs": [
    {
     "data": {
      "text/plain": [
       "[4, 3, 2, 1]"
      ]
     },
     "execution_count": 16,
     "metadata": {},
     "output_type": "execute_result"
    }
   ],
   "source": [
    "listA.reverse()\n",
    "listA"
   ]
  },
  {
   "cell_type": "code",
   "execution_count": 17,
   "id": "6ef7ccf6-0f59-4a8d-b42e-62369d638d2d",
   "metadata": {},
   "outputs": [
    {
     "data": {
      "text/plain": [
       "[1, 2, 3, 4]"
      ]
     },
     "execution_count": 17,
     "metadata": {},
     "output_type": "execute_result"
    }
   ],
   "source": [
    "listA.sort()\n",
    "listA"
   ]
  },
  {
   "cell_type": "markdown",
   "id": "bdb82a2c-4dc5-4159-b3b6-09fd20cad78e",
   "metadata": {},
   "source": [
    "## Tuple\n",
    "\n",
    "- Sequence data\n",
    "- No mutable (you cannot add elements, neither change elements)\n",
    "- Ordered, it is sortable"
   ]
  },
  {
   "cell_type": "code",
   "execution_count": 18,
   "id": "f0b08148-e0eb-4b7c-bbc7-5a59337f76a5",
   "metadata": {},
   "outputs": [
    {
     "data": {
      "text/plain": [
       "('Name', 'DOB', 'Email')"
      ]
     },
     "execution_count": 18,
     "metadata": {},
     "output_type": "execute_result"
    }
   ],
   "source": [
    "tupleA = (\"Name\", \"DOB\", \"Email\") # Note the use of brackets for defining and representing a list\n",
    "tupleA"
   ]
  },
  {
   "cell_type": "code",
   "execution_count": 19,
   "id": "df713fe4-7ceb-4a81-b118-8a3a17e557d8",
   "metadata": {},
   "outputs": [
    {
     "data": {
      "text/plain": [
       "('Lastname', 'Country')"
      ]
     },
     "execution_count": 19,
     "metadata": {},
     "output_type": "execute_result"
    }
   ],
   "source": [
    "tupleB = \"Lastname\", \"Country\"\n",
    "tupleB"
   ]
  },
  {
   "cell_type": "code",
   "execution_count": 20,
   "id": "e2fbd973-b956-4ed1-b4d7-7e378d17a0af",
   "metadata": {},
   "outputs": [
    {
     "data": {
      "text/plain": [
       "('Name', 'DOB', 'Email', 'Lastname', 'Country')"
      ]
     },
     "execution_count": 20,
     "metadata": {},
     "output_type": "execute_result"
    }
   ],
   "source": [
    "tupleA + tupleB"
   ]
  },
  {
   "cell_type": "code",
   "execution_count": 21,
   "id": "4f0c1e98-b7df-4b8c-a209-87002ae12c5e",
   "metadata": {},
   "outputs": [
    {
     "data": {
      "text/plain": [
       "'Name'"
      ]
     },
     "execution_count": 21,
     "metadata": {},
     "output_type": "execute_result"
    }
   ],
   "source": [
    "tupleA[0]"
   ]
  },
  {
   "cell_type": "code",
   "execution_count": 22,
   "id": "610517c3-a0a6-419c-98f0-c04ba594a1aa",
   "metadata": {},
   "outputs": [
    {
     "ename": "TypeError",
     "evalue": "'tuple' object doesn't support item deletion",
     "output_type": "error",
     "traceback": [
      "\u001b[0;31m---------------------------------------------------------------------------\u001b[0m",
      "\u001b[0;31mTypeError\u001b[0m                                 Traceback (most recent call last)",
      "Cell \u001b[0;32mIn[22], line 1\u001b[0m\n\u001b[0;32m----> 1\u001b[0m \u001b[38;5;28;01mdel\u001b[39;00m(\u001b[43mtupleA\u001b[49m\u001b[43m[\u001b[49m\u001b[38;5;241;43m0\u001b[39;49m\u001b[43m]\u001b[49m) \u001b[38;5;66;03m# Tuple is not mutable, so we cannot delete\u001b[39;00m\n",
      "\u001b[0;31mTypeError\u001b[0m: 'tuple' object doesn't support item deletion"
     ]
    }
   ],
   "source": [
    "del(tupleA[0]) # Tuple is not mutable, so we cannot delete"
   ]
  },
  {
   "cell_type": "markdown",
   "id": "39540ce0-83fa-4c59-92fc-cda218bf72db",
   "metadata": {},
   "source": [
    "## Set\n",
    "\n",
    "- No duplicates\n",
    "- Unordered\n",
    "- Very fast computations\n",
    "- Uses Mathematical set operations"
   ]
  },
  {
   "cell_type": "code",
   "execution_count": 23,
   "id": "e71cf234-a865-4100-94a6-1ce7c81b106e",
   "metadata": {},
   "outputs": [
    {
     "name": "stdout",
     "output_type": "stream",
     "text": [
      "{1, 2, 3, 4} {4, 5, 6, 7} set()\n"
     ]
    }
   ],
   "source": [
    "setA = {1,2,3,4} # Note the curly braces for defining and representing sets\n",
    "setB = {4,5,6,7}\n",
    "setC = set()\n",
    "\n",
    "print(setA, setB, setC)"
   ]
  },
  {
   "cell_type": "code",
   "execution_count": 24,
   "id": "099583e7-6458-44a2-9861-07c717f8615a",
   "metadata": {},
   "outputs": [
    {
     "data": {
      "text/plain": [
       "{1, 2, 3, 4, 5}"
      ]
     },
     "execution_count": 24,
     "metadata": {},
     "output_type": "execute_result"
    }
   ],
   "source": [
    "setA.add(5)\n",
    "setA"
   ]
  },
  {
   "cell_type": "code",
   "execution_count": 25,
   "id": "145dfc4a-546d-4334-9caa-23c0a5e2b756",
   "metadata": {},
   "outputs": [
    {
     "data": {
      "text/plain": [
       "{1, 2, 3, 4}"
      ]
     },
     "execution_count": 25,
     "metadata": {},
     "output_type": "execute_result"
    }
   ],
   "source": [
    "setA.remove(5)\n",
    "setA"
   ]
  },
  {
   "cell_type": "markdown",
   "id": "4c3b82b3-e2ad-44a0-87f1-1723ee8cc528",
   "metadata": {},
   "source": [
    "Mathematical set operations:"
   ]
  },
  {
   "cell_type": "code",
   "execution_count": 26,
   "id": "0e0b969a-f077-42bc-97f6-8d268dd8ce72",
   "metadata": {},
   "outputs": [
    {
     "data": {
      "text/plain": [
       "{4}"
      ]
     },
     "execution_count": 26,
     "metadata": {},
     "output_type": "execute_result"
    }
   ],
   "source": [
    "setA & setB # Intersection - AND"
   ]
  },
  {
   "cell_type": "code",
   "execution_count": 27,
   "id": "f5183231-7327-475c-9d05-96083f921295",
   "metadata": {},
   "outputs": [
    {
     "data": {
      "text/plain": [
       "{1, 2, 3, 4, 5, 6, 7}"
      ]
     },
     "execution_count": 27,
     "metadata": {},
     "output_type": "execute_result"
    }
   ],
   "source": [
    "setA | setB # Union - OR"
   ]
  },
  {
   "cell_type": "code",
   "execution_count": 28,
   "id": "ecefad50-9d71-4d45-96d3-eff5de68f7e4",
   "metadata": {},
   "outputs": [
    {
     "data": {
      "text/plain": [
       "{1, 2, 3, 5, 6, 7}"
      ]
     },
     "execution_count": 28,
     "metadata": {},
     "output_type": "execute_result"
    }
   ],
   "source": [
    "setA ^ setB # Summetric difference - XOR"
   ]
  },
  {
   "cell_type": "code",
   "execution_count": 29,
   "id": "7c3153e9-8b31-48ab-806b-cf9188db2355",
   "metadata": {},
   "outputs": [
    {
     "data": {
      "text/plain": [
       "False"
      ]
     },
     "execution_count": 29,
     "metadata": {},
     "output_type": "execute_result"
    }
   ],
   "source": [
    "setA <= setB # Evaluating if setB is contained in setA"
   ]
  },
  {
   "cell_type": "code",
   "execution_count": 30,
   "id": "dfc57eee-dae9-4c36-81cb-14ad3a95575e",
   "metadata": {},
   "outputs": [
    {
     "data": {
      "text/plain": [
       "False"
      ]
     },
     "execution_count": 30,
     "metadata": {},
     "output_type": "execute_result"
    }
   ],
   "source": [
    "setA >= setB # Evaluating if setA is contained in setB"
   ]
  },
  {
   "cell_type": "code",
   "execution_count": 31,
   "id": "35b93aa7-68fa-4db6-8c45-107ac4b30882",
   "metadata": {},
   "outputs": [
    {
     "data": {
      "text/plain": [
       "{1, 2, 3}"
      ]
     },
     "execution_count": 31,
     "metadata": {},
     "output_type": "execute_result"
    }
   ],
   "source": [
    "setA - setB # Evaluating difference: elements in setA not contained in setB"
   ]
  },
  {
   "cell_type": "markdown",
   "id": "2d95f82e-572b-49ec-9fd7-6f8e709871cf",
   "metadata": {},
   "source": [
    "## Dictionary\n",
    "\n",
    "- Made of key and value pairs\n",
    "- Unordered"
   ]
  },
  {
   "cell_type": "code",
   "execution_count": 32,
   "id": "65c13e18-18e8-440e-aabe-e3369f82e3ed",
   "metadata": {},
   "outputs": [
    {
     "data": {
      "text/plain": [
       "{'Name': 'Tina', 'LastName': 'Marvel'}"
      ]
     },
     "execution_count": 32,
     "metadata": {},
     "output_type": "execute_result"
    }
   ],
   "source": [
    "dictA = {\"Name\": \"Tina\", \"LastName\": \"Marvel\"}\n",
    "dictA"
   ]
  },
  {
   "cell_type": "code",
   "execution_count": 33,
   "id": "15dba763-3422-47f9-b634-8d2c0d5973a3",
   "metadata": {},
   "outputs": [
    {
     "data": {
      "text/plain": [
       "{'Name': 'Jim', 'LastName': 'Clarke'}"
      ]
     },
     "execution_count": 33,
     "metadata": {},
     "output_type": "execute_result"
    }
   ],
   "source": [
    "dictB = dict([(\"Name\", \"Jim\"), (\"LastName\", \"Clarke\")])\n",
    "dictB"
   ]
  },
  {
   "cell_type": "code",
   "execution_count": 34,
   "id": "8ea41608-f2aa-407c-87b5-e62b19405699",
   "metadata": {},
   "outputs": [
    {
     "data": {
      "text/plain": [
       "'Tina'"
      ]
     },
     "execution_count": 34,
     "metadata": {},
     "output_type": "execute_result"
    }
   ],
   "source": [
    "dictA[\"Name\"]"
   ]
  },
  {
   "cell_type": "code",
   "execution_count": 35,
   "id": "0e878bce-b375-4bcc-8e7a-8d8cbad51f8b",
   "metadata": {},
   "outputs": [
    {
     "data": {
      "text/plain": [
       "dict_keys(['Name', 'LastName'])"
      ]
     },
     "execution_count": 35,
     "metadata": {},
     "output_type": "execute_result"
    }
   ],
   "source": [
    "dictA.keys()"
   ]
  },
  {
   "cell_type": "code",
   "execution_count": 36,
   "id": "cecb04fa-2bcf-46e4-9b79-0b346c4eda6c",
   "metadata": {},
   "outputs": [
    {
     "data": {
      "text/plain": [
       "dict_values(['Tina', 'Marvel'])"
      ]
     },
     "execution_count": 36,
     "metadata": {},
     "output_type": "execute_result"
    }
   ],
   "source": [
    "dictA.values()"
   ]
  },
  {
   "cell_type": "code",
   "execution_count": 37,
   "id": "5b3e6425-937a-4667-845d-4dc176a61ed6",
   "metadata": {},
   "outputs": [
    {
     "data": {
      "text/plain": [
       "dict_items([('Name', 'Tina'), ('LastName', 'Marvel')])"
      ]
     },
     "execution_count": 37,
     "metadata": {},
     "output_type": "execute_result"
    }
   ],
   "source": [
    "dictA.items()"
   ]
  },
  {
   "cell_type": "code",
   "execution_count": 38,
   "id": "c4d53e8f-46cf-43cf-8eb9-a1a2174cc6a3",
   "metadata": {},
   "outputs": [
    {
     "data": {
      "text/plain": [
       "True"
      ]
     },
     "execution_count": 38,
     "metadata": {},
     "output_type": "execute_result"
    }
   ],
   "source": [
    "\"Tina\" in dictA.values()"
   ]
  },
  {
   "cell_type": "code",
   "execution_count": 39,
   "id": "be98ef78-41ba-499b-935d-6f377094d925",
   "metadata": {},
   "outputs": [
    {
     "data": {
      "text/plain": [
       "False"
      ]
     },
     "execution_count": 39,
     "metadata": {},
     "output_type": "execute_result"
    }
   ],
   "source": [
    "\"Tina\" in dictB.values()"
   ]
  },
  {
   "cell_type": "markdown",
   "id": "e1e460f4-3bd5-4501-95bd-6c1752f4664d",
   "metadata": {},
   "source": [
    "## Indexing"
   ]
  },
  {
   "cell_type": "code",
   "execution_count": 40,
   "id": "9b5aeb2f-f7be-4e60-be67-efc2e9da6c41",
   "metadata": {},
   "outputs": [
    {
     "data": {
      "text/plain": [
       "([1, 2, 3, 4], ['a', 'b', 'c', 'd'])"
      ]
     },
     "execution_count": 40,
     "metadata": {},
     "output_type": "execute_result"
    }
   ],
   "source": [
    "listA, listB"
   ]
  },
  {
   "cell_type": "markdown",
   "id": "1d653c7e-39e5-4311-8245-b33943842a4b",
   "metadata": {},
   "source": [
    "Python index starts at zero \"0\". So, the first element will be always at index zero."
   ]
  },
  {
   "cell_type": "code",
   "execution_count": 41,
   "id": "a8f4033c-d207-4ee1-86d3-3c6d9f1d0e5d",
   "metadata": {},
   "outputs": [
    {
     "data": {
      "text/plain": [
       "1"
      ]
     },
     "execution_count": 41,
     "metadata": {},
     "output_type": "execute_result"
    }
   ],
   "source": [
    "listA[0]"
   ]
  },
  {
   "cell_type": "code",
   "execution_count": 42,
   "id": "01deeb8f-ada9-4d01-8a38-9089ef482028",
   "metadata": {},
   "outputs": [
    {
     "data": {
      "text/plain": [
       "4"
      ]
     },
     "execution_count": 42,
     "metadata": {},
     "output_type": "execute_result"
    }
   ],
   "source": [
    "listA[-1]"
   ]
  },
  {
   "cell_type": "code",
   "execution_count": 43,
   "id": "e60bf6dd-4e32-4c0d-9690-d3265a28b3fa",
   "metadata": {},
   "outputs": [
    {
     "data": {
      "text/plain": [
       "[1, 2]"
      ]
     },
     "execution_count": 43,
     "metadata": {},
     "output_type": "execute_result"
    }
   ],
   "source": [
    "listA[0:2]"
   ]
  },
  {
   "cell_type": "code",
   "execution_count": 44,
   "id": "cec7abef-0bae-48fc-b3f3-ac9d7781d8f4",
   "metadata": {},
   "outputs": [
    {
     "data": {
      "text/plain": [
       "[1, 3]"
      ]
     },
     "execution_count": 44,
     "metadata": {},
     "output_type": "execute_result"
    }
   ],
   "source": [
    "listA[::2]"
   ]
  },
  {
   "cell_type": "code",
   "execution_count": 45,
   "id": "3325f6fa-ff76-48fc-8128-7d82cfc7ec53",
   "metadata": {},
   "outputs": [
    {
     "data": {
      "text/plain": [
       "[4, 2]"
      ]
     },
     "execution_count": 45,
     "metadata": {},
     "output_type": "execute_result"
    }
   ],
   "source": [
    "listA[::-2]"
   ]
  },
  {
   "cell_type": "markdown",
   "id": "258e6b1c-1b4f-48d3-a9bb-5f348bfca81d",
   "metadata": {},
   "source": [
    "## Want to know more\n",
    "\n",
    "If you want to learn more about data structures and how to create them, explore Python comprehensions"
   ]
  },
  {
   "cell_type": "code",
   "execution_count": null,
   "id": "b540b5cb-65a6-4098-b8cb-baad0dd6ea1e",
   "metadata": {},
   "outputs": [],
   "source": []
  }
 ],
 "metadata": {
  "kernelspec": {
   "display_name": "Python 3 (ipykernel)",
   "language": "python",
   "name": "python3"
  },
  "language_info": {
   "codemirror_mode": {
    "name": "ipython",
    "version": 3
   },
   "file_extension": ".py",
   "mimetype": "text/x-python",
   "name": "python",
   "nbconvert_exporter": "python",
   "pygments_lexer": "ipython3",
   "version": "3.11.4"
  }
 },
 "nbformat": 4,
 "nbformat_minor": 5
}
